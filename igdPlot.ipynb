{
 "cells": [
  {
   "cell_type": "markdown",
   "metadata": {},
   "source": [
    "# Explore iGD database and tool "
   ]
  },
  {
   "cell_type": "code",
   "execution_count": 1,
   "metadata": {
    "collapsed": true
   },
   "outputs": [],
   "source": [
    "import cv2\n",
    "import os\n",
    "import random\n",
    "import numpy as np\n",
    "import pandas as pd\n",
    "import matplotlib.pyplot as plt\n",
    "import skimage.io\n",
    "from skimage.io import imread, imshow, imread_collection, concatenate_images\n",
    "from skimage.transform import resize\n",
    "from skimage import exposure\n",
    "from skimage.measure import label, regionprops\n",
    "from skimage.draw import ellipse, ellipse_perimeter\n",
    "from skimage.measure import EllipseModel, find_contours\n",
    "from skimage.feature import canny\n",
    "from skimage.transform import hough_ellipse"
   ]
  },
  {
   "cell_type": "code",
   "execution_count": 2,
   "metadata": {
    "scrolled": true
   },
   "outputs": [
    {
     "data": {
      "text/plain": [
       "'/media/john/Rocky/igdplot'"
      ]
     },
     "execution_count": 2,
     "metadata": {},
     "output_type": "execute_result"
    }
   ],
   "source": [
    "#% lsmagic\n",
    "% pwd    "
   ]
  },
  {
   "cell_type": "code",
   "execution_count": 3,
   "metadata": {
    "collapsed": true
   },
   "outputs": [],
   "source": [
    "%%bash\n",
    "\n",
    "for i in 10 100 1000 10000 100000 1000000\n",
    "do\n",
    "/usr/bin/time -a -o data1/ucsc_test_i15 -f \"%e\\t%U\\t%S\" igd_b15 search /media/john/Rocky/queries/r$i.bed /media/john/Rocky/ucsc_igd_b15/ucsc.igd > /dev/null\n",
    "done\n",
    "\n",
    "\n",
    "for i in 10 100 1000 10000 100000 1000000\n",
    "do\n",
    "/usr/bin/time -a -o data1/rme_test_i_b15 -f \"%e\\t%U\\t%S\" igd_b15 search /media/john/Rocky/queries/r$i.bed /media/john/Rocky/rme_igd_b15/roadmap.igd > /dev/null\n",
    "done\n",
    "\n",
    "for i in 10 100 1000 10000 100000 1000000\n",
    "do\n",
    "/usr/bin/time -a -o data1/rme_test_i_b12 -f \"%e\\t%U\\t%S\" igd_b12 search /media/john/Rocky/queries/r$i.bed /media/john/Rocky/rme_igd_b12/roadmap.igd > /dev/null\n",
    "done\n",
    "\n",
    "for i in 10 100 1000 10000 100000 1000000\n",
    "do\n",
    "/usr/bin/time -a -o data1/rme_test_i -f \"%e\\t%U\\t%S\" igd search /media/john/Rocky/queries/r$i.bed /media/john/Rocky/rme_igd/roadmap.igd > /dev/null\n",
    "done\n",
    "\n",
    "for i in 10 100 1000 10000 100000 1000000\n",
    "do\n",
    "/usr/bin/time -a -o data1/rme_test_g -f \"%e\\t%U\\t%S\" giggle search -q /media/john/Rocky/queries_gz/ucsc_r$i.bed.gz -i /media/john/Rocky/rme_giggle > /dev/null\n",
    "done"
   ]
  },
  {
   "cell_type": "code",
   "execution_count": null,
   "metadata": {
    "collapsed": true
   },
   "outputs": [],
   "source": [
    "%%bash\n",
    "\n",
    "for i in 10 100 1000 10000 100000 1000000\n",
    "do\n",
    "/usr/bin/time -a -o data1/rme_test_i -f \"%e\\t%U\\t%S\" igd search /media/john/Rocky/queries/r$i.bed /media/john/Rocky/rme_igd/roadmap.igd > /dev/null\n",
    "done\n",
    "\n",
    "for i in 10 100 1000 10000 100000 1000000\n",
    "do\n",
    "/usr/bin/time -a -o data1/rme_test_g -f \"%e\\t%U\\t%S\" giggle search -q /media/john/Rocky/queries_gz/ucsc_r$i.bed.gz -i /media/john/Rocky/rme_giggle > /dev/null\n",
    "done\n",
    "\n",
    "for i in 10 100 1000 10000 100000 1000000\n",
    "do\n",
    "/usr/bin/time -a -o data1/ucsc_test_i -f \"%e\\t%U\\t%S\" igd search /media/john/Rocky/queries/r$i.bed /media/john/Rocky/ucsc_igd/ucsc.igd > /dev/null\n",
    "done\n",
    "\n",
    "for i in 10 100 1000 10000 100000 1000000\n",
    "do\n",
    "/usr/bin/time -a -o data1/ucsc_test_g -f \"%e\\t%U\\t%S\" giggle search -q /media/john/Rocky/queries_gz/ucsc_r$i.bed.gz -i /media/john/Rocky/ucsc_giggle > /dev/null\n",
    "done"
   ]
  },
  {
   "cell_type": "code",
   "execution_count": 44,
   "metadata": {
    "collapsed": true
   },
   "outputs": [],
   "source": [
    "def igdCurves():\n",
    "    di_rme = pd.read_csv(\"data1/rme_test_i\", sep='\\t')    \n",
    "    di_ucsc  = pd.read_csv(\"data1/ucsc_test_i\", sep='\\t')\n",
    "    dg_rme = pd.read_csv(\"data1/rme_test_g\", sep='\\t')\n",
    "    dg_ucsc  = pd.read_csv(\"data1/ucsc_test_g\", sep='\\t') \n",
    "    #--------------------------------------------------\n",
    "    tx = [10, 100, 1000, 10000, 100000, 1000000]\n",
    "    ti1 = di_rme['real']\n",
    "    ti2 = di_ucsc['real']\n",
    "    tg1 = dg_rme['real']\n",
    "    tg2 = dg_ucsc['real'] \n",
    "    cpui1 = di_rme['user'] + di_rme['sys']\n",
    "    cpui2 = di_ucsc['user'] + di_ucsc['sys']\n",
    "    cpug1 = dg_rme['user'] + dg_rme['sys']\n",
    "    cpug2 = dg_ucsc['user'] + dg_ucsc['sys']    \n",
    "    #------------------------------------------\n",
    "    f = plt.figure(1, figsize=(12,8))\n",
    "    ax1 = plt.subplot(221)  \n",
    "    plt.xlabel('Number of query intervals')\n",
    "    plt.ylabel('Runtime (s)')    \n",
    "    plt.yscale('log')\n",
    "    plt.xscale('log')\n",
    "    ax1.set_ylim(0.1, 100)\n",
    "    #plt.title(\"Roadmap data\")   \n",
    "    plt.plot(tx, ti1, 'm-o', label='iGD')    \n",
    "    plt.plot(tx, tg1, 'b-o', label='Giggle')\n",
    "    ax1.legend()\n",
    "    #------------------------------------------\n",
    "    ax2 = plt.subplot(222)\n",
    "    plt.xlabel('Number of query intervals')\n",
    "    plt.ylabel('Runtime (s)')  \n",
    "    plt.yscale('log')\n",
    "    plt.xscale('log')\n",
    "    ax2.set_ylim(0.1, 11000)\n",
    "    #plt.title(\"UCSC data\") \n",
    "    plt.plot(tx, ti2, 'm-o', label='iGD')    \n",
    "    plt.plot(tx, tg2, 'b-o', label='Giggle')\n",
    "    ax2.legend()\n",
    "    \n",
    "    plt.subplots_adjust(top=0.92, bottom=0.08, left=0.10, right=0.95, hspace=0.25, wspace=0.3)\n",
    "    plt.show()\n",
    "    f.savefig('data1/speed_test.pdf')"
   ]
  },
  {
   "cell_type": "code",
   "execution_count": 45,
   "metadata": {
    "scrolled": false
   },
   "outputs": [
    {
     "data": {
      "image/png": "[encoded data removed]",
      "text/plain": [
       "<matplotlib.figure.Figure at 0x7f2ab8085b70>"
      ]
     },
     "metadata": {},
     "output_type": "display_data"
    }
   ],
   "source": [
    "igdCurves()"
   ]
  },
  {
   "cell_type": "code",
   "execution_count": 16,
   "metadata": {
    "collapsed": true
   },
   "outputs": [],
   "source": [
    "'''%%bash\n",
    "for v in 0 400 800\n",
    "do\n",
    "igd search /media/john/Rocky/encode_tfbs_t /media/john/Rocky/encode_igd_t/tfbs.igd -v $v\n",
    "done'''"
   ]
  },
  {
   "cell_type": "code",
   "execution_count": null,
   "metadata": {
    "collapsed": true
   },
   "outputs": [],
   "source": [
    "def igdMap():    \n",
    "    # open *.0, *.400, *.800 files in the current folder\n",
    "    di_ucsc  = pd.read_csv(\"ucsc_test_i\", sep='\\t')\n",
    "    dg_rme = pd.read_csv(\"rme_test_g\", sep='\\t')\n",
    "    dg_ucsc  = pd.read_csv(\"ucsc_test_g\", sep='\\t') \n",
    "  \n",
    "    tx = [10, 100, 1000, 10000, 100000, 1000000]\n",
    "    ti1 = di_rme['real']\n",
    "    ti2 = di_ucsc['real']\n",
    "    tg1 = dg_rme['real']\n",
    "    tg2 = dg_ucsc['real'] \n",
    "    #------------------- \n",
    "    f = plt.figure(1, figsize=(12,8))\n",
    "    ax1 = plt.subplot(221)  \n",
    "    plt.xlabel('Number of query intervals')\n",
    "    plt.ylabel('Runtime (s)')    \n",
    "    plt.yscale('log')\n",
    "    plt.xscale('log')\n",
    "    #plt.title(\"Roadmap data\")   \n",
    "    plt.plot(tx, ti1, 'm-o', label='iGD')    \n",
    "    plt.plot(tx, tg1, 'b-o', label='Giggle')\n",
    "    ax1.legend()\n",
    "    \n",
    "    ax2 = plt.subplot(222)\n",
    "    plt.xlabel('Number of query intervals')\n",
    "    plt.ylabel('Runtime (s)')  \n",
    "    plt.yscale('log')\n",
    "    plt.xscale('log')\n",
    "    #plt.title(\"UCSC data\") \n",
    "    plt.plot(tx, ti2, 'm-o', label='iGD')    \n",
    "    plt.plot(tx, tg2, 'b-o', label='Giggle')\n",
    "\n",
    "    ax2.legend()\n",
    "    \n",
    "    plt.subplots_adjust(top=0.92, bottom=0.08, left=0.10, right=0.95, hspace=0.25, wspace=0.35)\n",
    "    plt.show()\n",
    "    f.savefig('speed_test.pdf')"
   ]
  },
  {
   "cell_type": "code",
   "execution_count": null,
   "metadata": {
    "collapsed": true
   },
   "outputs": [],
   "source": [
    "    #---------------------------------------------------------------\n",
    "    img = initializeImg(img)[:,:,0]  \n",
    "    pred = seg3gaps(pred, img)\n",
    "    #---------------------------------------------------------------\n",
    "    fig = plt.figure(figsize=(15,15)) \n",
    "    fig.add_subplot(1, 3, 1), plt.imshow(img)   \n",
    "    fig.add_subplot(1, 3, 2), plt.imshow(labels)\n",
    "    fig.add_subplot(1, 3, 3), plt.imshow(pred)\n",
    "    fig = plt.figure()     \n",
    "    prec = cal_prec(pred, labels)\n",
    "    print(i, ' prec:', prec)   "
   ]
  }
 ],
 "metadata": {
  "kernelspec": {
   "display_name": "Python 3",
   "language": "python",
   "name": "python3"
  },
  "language_info": {
   "codemirror_mode": {
    "name": "ipython",
    "version": 3
   },
   "file_extension": ".py",
   "mimetype": "text/x-python",
   "name": "python",
   "nbconvert_exporter": "python",
   "pygments_lexer": "ipython3",
   "version": "3.6.3"
  }
 },
 "nbformat": 4,
 "nbformat_minor": 2
}
